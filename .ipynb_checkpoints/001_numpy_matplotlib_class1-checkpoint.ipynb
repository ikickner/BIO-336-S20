{
 "cells": [
  {
   "cell_type": "markdown",
   "metadata": {},
   "source": [
    "#  Numpy and Matplotlib\n",
    "\n",
    "First of all, to use libraries, we need to import them. And it is usually done at the beginning of your script/notebook\n"
   ]
  },
  {
   "cell_type": "code",
   "execution_count": 28,
   "metadata": {},
   "outputs": [],
   "source": [
    "import numpy as np\n",
    "import matplotlib.pyplot as plt"
   ]
  },
  {
   "cell_type": "code",
   "execution_count": 5,
   "metadata": {},
   "outputs": [
    {
     "data": {
      "text/plain": [
       "3.0"
      ]
     },
     "execution_count": 5,
     "metadata": {},
     "output_type": "execute_result"
    }
   ],
   "source": [
    "np.sqrt(9)\n",
    "\n",
    "#Before we start, just as a vaccination of sorts, the difference between mupy and lists."
   ]
  },
  {
   "cell_type": "code",
   "execution_count": 7,
   "metadata": {},
   "outputs": [
    {
     "name": "stdout",
     "output_type": "stream",
     "text": [
      "[1, 2, 3]\n",
      "2\n",
      "[1, 2, 3, 1, 2, 3]\n",
      "[1, 2, 3, 1, 2, 3, 1, 2, 3]\n"
     ]
    }
   ],
   "source": [
    "#Let's create a list, and add to the list\n",
    "a = [1,2,3]\n",
    "print(a)\n",
    "\n",
    "#We can access elements of a list\n",
    "print(a[1])\n",
    "\n",
    "#Can you add a number to a list?\n",
    "#print(a+1) #No, you cannot, returns an error \n",
    "\n",
    "#Can you add to lists together?\n",
    "print(a+a) #Yes, you can, and it concatenates the lists\n",
    "\n",
    "# A consequence of that, you can kinda multiply lists, but it acutally just repeats them \n",
    "print(a*3)"
   ]
  },
  {
   "cell_type": "code",
   "execution_count": 20,
   "metadata": {},
   "outputs": [
    {
     "name": "stdout",
     "output_type": "stream",
     "text": [
      "[1 2 3]\n",
      "2\n",
      "[2.1 3.1 4.1]\n",
      "[ 5 10 15]\n",
      "[2 4 6]\n"
     ]
    },
    {
     "ename": "ValueError",
     "evalue": "operands could not be broadcast together with shapes (3,) (2,) ",
     "output_type": "error",
     "traceback": [
      "\u001b[0;31m---------------------------------------------------------------------------\u001b[0m",
      "\u001b[0;31mValueError\u001b[0m                                Traceback (most recent call last)",
      "\u001b[0;32m<ipython-input-20-12f3ad39d593>\u001b[0m in \u001b[0;36m<module>\u001b[0;34m\u001b[0m\n\u001b[1;32m     17\u001b[0m \u001b[0;34m\u001b[0m\u001b[0m\n\u001b[1;32m     18\u001b[0m \u001b[0;31m#What if the vectors are of different size?\u001b[0m\u001b[0;34m\u001b[0m\u001b[0;34m\u001b[0m\u001b[0;34m\u001b[0m\u001b[0m\n\u001b[0;32m---> 19\u001b[0;31m \u001b[0mprint\u001b[0m\u001b[0;34m(\u001b[0m\u001b[0mb\u001b[0m \u001b[0;34m+\u001b[0m \u001b[0mnp\u001b[0m\u001b[0;34m.\u001b[0m\u001b[0marray\u001b[0m\u001b[0;34m(\u001b[0m\u001b[0;34m[\u001b[0m\u001b[0;36m1\u001b[0m\u001b[0;34m,\u001b[0m\u001b[0;36m2\u001b[0m\u001b[0;34m]\u001b[0m\u001b[0;34m)\u001b[0m\u001b[0;34m)\u001b[0m \u001b[0;31m# This wouldn't work, as in good faith you cannot interpret it\u001b[0m\u001b[0;34m\u001b[0m\u001b[0;34m\u001b[0m\u001b[0m\n\u001b[0m",
      "\u001b[0;31mValueError\u001b[0m: operands could not be broadcast together with shapes (3,) (2,) "
     ]
    }
   ],
   "source": [
    "#For math, we'll be using NUMPY ARRAYS\n",
    "\n",
    "b = np.array([1,2,3])\n",
    "print(b)\n",
    "\n",
    "#Can we access an element of it? \n",
    "print(b[1]) #Yep, it worked the same as for a list!\n",
    "\n",
    "#Can we adda number to it?\n",
    "print(b+1.1) #Yes, and it adds to every element!\n",
    "\n",
    "#Can we multiply by a number?\n",
    "print(b*5) #Yep, and it actually multiplys every element!\n",
    "\n",
    "#Can we add two arrays together?\n",
    "print(b+b) #Yes, and moreover, it does it element by element!\n",
    "\n",
    "#What if the vectors are of different size? \n",
    "print(b + np.array([1,2])) # This wouldn't work, as in good faith you cannot interpret it"
   ]
  },
  {
   "cell_type": "code",
   "execution_count": 18,
   "metadata": {},
   "outputs": [
    {
     "data": {
      "text/plain": [
       "array(['d', '1'], dtype='<U1')"
      ]
     },
     "execution_count": 18,
     "metadata": {},
     "output_type": "execute_result"
    }
   ],
   "source": [
    "#You can also put strings into a numpy array, but let's park it \n",
    "np.array(['d',1])"
   ]
  },
  {
   "cell_type": "code",
   "execution_count": 21,
   "metadata": {},
   "outputs": [
    {
     "name": "stdout",
     "output_type": "stream",
     "text": [
      "[1 4 9]\n",
      "[1.         1.41421356 1.73205081]\n"
     ]
    }
   ],
   "source": [
    "# Most well-written functions can be called on a vector like that (array), and they just apply themselves to every element \n",
    "print(b**2)\n",
    "print(np.sqrt(b))"
   ]
  },
  {
   "cell_type": "code",
   "execution_count": 39,
   "metadata": {},
   "outputs": [
    {
     "data": {
      "image/png": "[encoded data removed]",
      "text/plain": [
       "<Figure size 360x360 with 1 Axes>"
      ]
     },
     "metadata": {
      "needs_background": "light"
     },
     "output_type": "display_data"
    }
   ],
   "source": [
    "#Let's try to plot something!\n",
    "\n",
    "x = np.arange(start=0, stop=10, step=0.2) #This creates 10 numbers from 0 to 9. Also we use named arguments here, just for fun.\n",
    "# print(x)\n",
    "plt.figure(figsize=(5,5))   #It creates a figure. (5,5) here is a tuple, a new data type, Let's talk about it later.\n",
    "plt.plot(x, np.sin(x)+x/5); #Semicolon suppresses the output for this object thin. Just to make it look neater \n",
    "plt.xlabel('Something Something');\n",
    "plt.ylabel('Something else');\n",
    "plt.plot(x,np.sqrt(x),'r.-'); #k is for black. Adding a \".\" is dotted. Adding a \".-\" is dotted and line."
   ]
  },
  {
   "cell_type": "markdown",
   "metadata": {},
   "source": [
    "# Birthday Exercise "
   ]
  },
  {
   "cell_type": "code",
   "execution_count": 40,
   "metadata": {},
   "outputs": [
    {
     "data": {
      "text/plain": [
       "array([0., 0., 0., 0., 0., 0., 0., 0., 0., 0., 0., 0., 0., 0., 0., 0., 0.,\n",
       "       0., 0., 0., 0., 0., 0., 0., 0., 0., 0., 0., 0., 0., 0., 0., 0., 0.,\n",
       "       0., 0., 0., 0., 0., 0., 0., 0., 0., 0., 0., 0., 0., 0., 0., 0., 0.,\n",
       "       0., 0., 0., 0., 0., 0., 0., 0., 0., 0., 0., 0., 0., 0., 0., 0., 0.,\n",
       "       0., 0., 0., 0., 0., 0., 0., 0., 0., 0., 0., 0., 0., 0., 0., 0., 0.,\n",
       "       0., 0., 0., 0., 0., 0., 0., 0., 0., 0., 0., 0., 0., 0., 0.])"
      ]
     },
     "execution_count": 40,
     "metadata": {},
     "output_type": "execute_result"
    }
   ],
   "source": [
    "p=np.zeros(100)\n",
    "p"
   ]
  },
  {
   "cell_type": "code",
   "execution_count": 59,
   "metadata": {},
   "outputs": [
    {
     "name": "stdout",
     "output_type": "stream",
     "text": [
      "[ 1.          1.          1.4630137   2.19452055  2.9260274   3.65753425\n",
      "  4.3890411   5.12054795  5.85205479  6.58356164  7.31506849  8.04657534\n",
      "  8.77808219  9.50958904 10.24109589 10.97260274 11.70410959 12.43561644\n",
      " 13.16712329 13.89863014 14.63013699 15.36164384 16.09315068 16.82465753\n",
      " 17.55616438 18.28767123 19.01917808 19.75068493 20.48219178 21.21369863\n",
      " 21.94520548 22.67671233 23.40821918 24.13972603 24.87123288 25.60273973\n",
      " 26.33424658 27.06575342 27.79726027 28.52876712 29.26027397 29.99178082\n",
      " 30.72328767 31.45479452 32.18630137 32.91780822 33.64931507 34.38082192\n",
      " 35.11232877 35.84383562 36.57534247 37.30684932 38.03835616 38.76986301\n",
      " 39.50136986 40.23287671 40.96438356 41.69589041 42.42739726 43.15890411\n",
      " 43.89041096 44.62191781 45.35342466 46.08493151 46.81643836 47.54794521\n",
      " 48.27945205 49.0109589  49.74246575 50.4739726  51.20547945 51.9369863\n",
      " 52.66849315 53.4        54.13150685 54.8630137  55.59452055 56.3260274\n",
      " 57.05753425 57.7890411  58.52054795 59.25205479 59.98356164 60.71506849\n",
      " 61.44657534 62.17808219 62.90958904 63.64109589 64.37260274 65.10410959\n",
      " 65.83561644 66.56712329 67.29863014 68.03013699 68.76164384 69.49315068\n",
      " 70.22465753 70.95616438 71.68767123 72.41917808]\n"
     ]
    }
   ],
   "source": [
    "n = 100\n",
    "p = np.zeros(n) #probability of Not having a matching birthday \n",
    "p[0] = 1\n",
    "p[1] = 1 # For 1 person, prob of not having a matching birthday is 1, haha\n",
    "for i in range(2,n): #This loop will run from 2 to n-1 (the highest number will be n-1)\n",
    "    # Calculate the probability that this new person doesnt have a matching birthday \n",
    "    # Using this new value we just calculated, and a value p[i-1], calculate p[i]\n",
    "    #p(i)=something something * p(i-i)\n",
    "    # Plot p, which is a vector of n numbers \n",
    "\n",
    "    p[i]= (i*(1-(98/365)))\n",
    "print(p)"
   ]
  },
  {
   "cell_type": "code",
   "execution_count": 3,
   "metadata": {},
   "outputs": [
    {
     "ename": "NameError",
     "evalue": "name 'n' is not defined",
     "output_type": "error",
     "traceback": [
      "\u001b[0;31m---------------------------------------------------------------------------\u001b[0m",
      "\u001b[0;31mNameError\u001b[0m                                 Traceback (most recent call last)",
      "\u001b[0;32m<ipython-input-3-95e060829e95>\u001b[0m in \u001b[0;36m<module>\u001b[0;34m\u001b[0m\n\u001b[0;32m----> 1\u001b[0;31m \u001b[0mp\u001b[0m\u001b[0;34m[\u001b[0m\u001b[0mi\u001b[0m\u001b[0;34m]\u001b[0m\u001b[0;34m=\u001b[0m\u001b[0;34m(\u001b[0m\u001b[0;36m1\u001b[0m\u001b[0;34m-\u001b[0m\u001b[0;34m(\u001b[0m\u001b[0;34m(\u001b[0m\u001b[0mn\u001b[0m\u001b[0;34m-\u001b[0m\u001b[0;36m1\u001b[0m\u001b[0;34m)\u001b[0m\u001b[0;34m/\u001b[0m\u001b[0;36m365\u001b[0m\u001b[0;34m)\u001b[0m\u001b[0;34m)\u001b[0m\u001b[0;34m\u001b[0m\u001b[0;34m\u001b[0m\u001b[0m\n\u001b[0m\u001b[1;32m      2\u001b[0m \u001b[0mn\u001b[0m \u001b[0;34m=\u001b[0m \u001b[0;36m100\u001b[0m\u001b[0;34m\u001b[0m\u001b[0;34m\u001b[0m\u001b[0m\n",
      "\u001b[0;31mNameError\u001b[0m: name 'n' is not defined"
     ]
    }
   ],
   "source": [
    "p[i]=(1-((n-1)/365))\n",
    "n = 100"
   ]
  },
  {
   "cell_type": "code",
   "execution_count": null,
   "metadata": {},
   "outputs": [],
   "source": []
  }
 ],
 "metadata": {
  "kernelspec": {
   "display_name": "Python 3",
   "language": "python",
   "name": "python3"
  },
  "language_info": {
   "codemirror_mode": {
    "name": "ipython",
    "version": 3
   },
   "file_extension": ".py",
   "mimetype": "text/x-python",
   "name": "python",
   "nbconvert_exporter": "python",
   "pygments_lexer": "ipython3",
   "version": "3.7.4"
  }
 },
 "nbformat": 4,
 "nbformat_minor": 2
}
