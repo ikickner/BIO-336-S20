{
 "cells": [
  {
   "cell_type": "markdown",
   "metadata": {},
   "source": [
    "# Simple numberical integration for motion  \n",
    "### Throwing stones and tracking their trajectory "
   ]
  },
  {
   "cell_type": "code",
   "execution_count": 2,
   "metadata": {},
   "outputs": [],
   "source": [
    "import numpy as np\n",
    "import matplotlib.pyplot as plt"
   ]
  },
  {
   "cell_type": "code",
   "execution_count": 5,
   "metadata": {
    "scrolled": true
   },
   "outputs": [
    {
     "data": {
      "text/plain": [
       "[<matplotlib.lines.Line2D at 0x11537c990>]"
      ]
     },
     "execution_count": 5,
     "metadata": {},
     "output_type": "execute_result"
    },
    {
     "data": {
      "image/png": "[encoded data removed]",
      "text/plain": [
       "<Figure size 432x288 with 1 Axes>"
      ]
     },
     "metadata": {
      "needs_background": "light"
     },
     "output_type": "display_data"
    }
   ],
   "source": [
    "#Attempt #1\n",
    "a = -1 # Acceleration; negative coz it tries to reverse the flight of the stone \n",
    "v = 5  # We throw the stone upwards, so its positive\n",
    "y = 0  # We throw it from the house, and are trying to see how far it goes \n",
    "x = 0  # We throw it from the surface, so x=0\n",
    "dt = 0.01 # Our step. Numerical integration step. Is supposed to be small\n",
    "nsteps= 1000\n",
    "history = np.zeros(nsteps)   #We will plopt that eventually \n",
    "for i in range(nsteps):\n",
    "    v = v + a*dt\n",
    "    x = max(x +v*dt, 0)\n",
    "    history[i] = x\n",
    "    \n",
    "plt.plot(history)"
   ]
  },
  {
   "cell_type": "code",
   "execution_count": null,
   "metadata": {},
   "outputs": [],
   "source": []
  },
  {
   "cell_type": "code",
   "execution_count": 15,
   "metadata": {
    "scrolled": true
   },
   "outputs": [
    {
     "data": {
      "image/png": "[encoded data removed]",
      "text/plain": [
       "<Figure size 432x288 with 1 Axes>"
      ]
     },
     "metadata": {
      "needs_background": "light"
     },
     "output_type": "display_data"
    }
   ],
   "source": [
    "#Attempt #2\n",
    "\n",
    "a = -1 # Acceleration; negative coz it tries to reverse the flight of the stone \n",
    "vy = 5  # We throw the stone upwards, so its positive\n",
    "vx = 1  # We throw it from the house, and are trying to see how far it goes \n",
    "x = 0  # We throw it from the surface, so x=0\n",
    "y = 0\n",
    "dt = 0.5 # Our step. Numerical integration step. Is supposed to be small\n",
    "nsteps= round(10/dt)\n",
    "\n",
    "\n",
    "\n",
    "for i in range(nsteps):\n",
    "    vy = vy + a*dt    # Update vertical speed \n",
    "    \n",
    "    x = x +vx*dt    # Update x position\n",
    "    y = max(y +vy*dt, 0)     #Update y position \n",
    "       \n",
    "    \n",
    "    plt.plot(x,y,'k.');     #Just plot a new point, instead of remembering x and y coz we're lazy right now "
   ]
  },
  {
   "cell_type": "markdown",
   "metadata": {},
   "source": [
    "# Attempt 3\n",
    "### throwing it at an angle, and there is air friction "
   ]
  },
  {
   "cell_type": "code",
   "execution_count": 23,
   "metadata": {
    "scrolled": true
   },
   "outputs": [
    {
     "data": {
      "image/png": "[encoded data removed]",
      "text/plain": [
       "<Figure size 432x288 with 1 Axes>"
      ]
     },
     "metadata": {
      "needs_background": "light"
     },
     "output_type": "display_data"
    }
   ],
   "source": [
    "\n",
    "a = -1 # Acceleration; negative coz it tries to reverse the flight of the stone \n",
    "vy = 5  # We throw the stone upwards, so its positive\n",
    "vx = 1  # We throw it from the house, and are trying to see how far it goes \n",
    "x = 0  # We throw it from the surface, so x=0\n",
    "y = 0\n",
    "dt = 0.01 # Our step. Numerical integration step. Is supposed to be small\n",
    "nsteps= round(10/dt)\n",
    "f = 0.1  #Friction\n",
    "\n",
    "\n",
    "for i in range(nsteps):\n",
    "    vy = (vy + a*dt) - (vy*f)    # Update vertical speed\n",
    "    vx = vx -vx*f                         #Friction is always negative because its opposite your speed \n",
    "    x = (x +vx*dt)    # Update x position\n",
    "    y = max(y +vy*dt, 0)     #Update y position \n",
    "       \n",
    "    \n",
    "    plt.plot(x,y,'k.');     #Just plot a new point, instead of remembering x and y coz we're lazy right now "
   ]
  },
  {
   "cell_type": "code",
   "execution_count": null,
   "metadata": {},
   "outputs": [],
   "source": []
  }
 ],
 "metadata": {
  "kernelspec": {
   "display_name": "Python 3",
   "language": "python",
   "name": "python3"
  },
  "language_info": {
   "codemirror_mode": {
    "name": "ipython",
    "version": 3
   },
   "file_extension": ".py",
   "mimetype": "text/x-python",
   "name": "python",
   "nbconvert_exporter": "python",
   "pygments_lexer": "ipython3",
   "version": "3.7.4"
  }
 },
 "nbformat": 4,
 "nbformat_minor": 2
}
