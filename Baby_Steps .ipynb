{
 "cells": [
  {
   "cell_type": "code",
   "execution_count": 6,
   "metadata": {
    "scrolled": true
   },
   "outputs": [
    {
     "data": {
      "text/plain": [
       "1"
      ]
     },
     "execution_count": 6,
     "metadata": {},
     "output_type": "execute_result"
    }
   ],
   "source": [
    "#that's a comment \n",
    "7%3  # this is a comment as well"
   ]
  },
  {
   "cell_type": "code",
   "execution_count": 7,
   "metadata": {},
   "outputs": [
    {
     "data": {
      "text/plain": [
       "4"
      ]
     },
     "execution_count": 7,
     "metadata": {},
     "output_type": "execute_result"
    }
   ],
   "source": [
    "2 +2 "
   ]
  },
  {
   "cell_type": "code",
   "execution_count": 10,
   "metadata": {},
   "outputs": [
    {
     "name": "stdout",
     "output_type": "stream",
     "text": [
      "3\n"
     ]
    }
   ],
   "source": [
    "a = 2\n",
    "a = a+1 # the value is updated \n",
    "print(a)"
   ]
  },
  {
   "cell_type": "code",
   "execution_count": 22,
   "metadata": {},
   "outputs": [],
   "source": [
    "a =5"
   ]
  },
  {
   "cell_type": "code",
   "execution_count": 13,
   "metadata": {},
   "outputs": [
    {
     "name": "stdout",
     "output_type": "stream",
     "text": [
      "0\n",
      "haha\n",
      "1\n",
      "haha\n",
      "2\n",
      "haha\n",
      "3\n",
      "haha\n",
      "4\n",
      "haha\n",
      "lol\n"
     ]
    }
   ],
   "source": [
    "# loop \n",
    "for i in range(5):\n",
    "    print(i)\n",
    "    print('haha') #this is in the loop \n",
    "print('lol') #This line is not in the loop \n",
    "\n",
    "#learning points: \n",
    "# 1) That's how you do a for-loop, nind the : at the end \n",
    "# 2) the inside of the loop is marked by indentation. Everything that's properly indented gets looped \n",
    "# 3) Once you're back to previous indentation, the loop is over \n",
    "# 4) Python is zero-indexed language. So range(5) produces 5 numbers, from 0 to 4"
   ]
  },
  {
   "cell_type": "code",
   "execution_count": 20,
   "metadata": {},
   "outputs": [
    {
     "name": "stdout",
     "output_type": "stream",
     "text": [
      "[2, 4, 8]\n",
      "zero-th element is 2\n",
      "one-th element is 4\n",
      "2\n",
      "4\n",
      "8\n"
     ]
    }
   ],
   "source": [
    "#lists \n",
    "b = [2,4,8]\n",
    "print(b)\n",
    "print(\"zero-th element is\",b[0]) # Zero-th element is 2!\n",
    "print(\"one-th element is\",b[1]) #one-th element is 4!\n",
    "\n",
    "for i in b:\n",
    "    print(i)"
   ]
  },
  {
   "cell_type": "code",
   "execution_count": 26,
   "metadata": {},
   "outputs": [
    {
     "name": "stdout",
     "output_type": "stream",
     "text": [
      "5\n",
      "haha here's your number 3 , silly!\n",
      "haha here's your number 8 , silly!\n"
     ]
    }
   ],
   "source": [
    "print(a)\n",
    "# Let's write an alternative stupid print function \n",
    "def my_print(i):\n",
    "    print(\"haha here's your number\", i,\", silly!\")\n",
    "\n",
    "my_print(3)\n",
    "my_print(8)"
   ]
  },
  {
   "cell_type": "code",
   "execution_count": null,
   "metadata": {},
   "outputs": [],
   "source": []
  },
  {
   "cell_type": "code",
   "execution_count": null,
   "metadata": {},
   "outputs": [],
   "source": []
  }
 ],
 "metadata": {
  "kernelspec": {
   "display_name": "Python 3",
   "language": "python",
   "name": "python3"
  },
  "language_info": {
   "codemirror_mode": {
    "name": "ipython",
    "version": 3
   },
   "file_extension": ".py",
   "mimetype": "text/x-python",
   "name": "python",
   "nbconvert_exporter": "python",
   "pygments_lexer": "ipython3",
   "version": "3.7.4"
  }
 },
 "nbformat": 4,
 "nbformat_minor": 2
}
