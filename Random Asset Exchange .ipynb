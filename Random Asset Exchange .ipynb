{
 "cells": [
  {
   "cell_type": "code",
   "execution_count": 2,
   "metadata": {},
   "outputs": [],
   "source": [
    "import numpy as np \n",
    "import matplotlib.pyplot as plt"
   ]
  },
  {
   "cell_type": "code",
   "execution_count": 3,
   "metadata": {},
   "outputs": [
    {
     "data": {
      "image/png": "[encoded data removed]",
      "text/plain": [
       "<Figure size 432x288 with 1 Axes>"
      ]
     },
     "metadata": {
      "needs_background": "light"
     },
     "output_type": "display_data"
    }
   ],
   "source": [
    "# Basic model\n",
    "nsteps = 10000\n",
    "npeople = 100\n",
    "coin = 0.1\n",
    "\n",
    "wealth = np.ones(npeople)                           # Init at equal wealth\n",
    "\n",
    "for t in range(nsteps):\n",
    "    p1 = np.random.randint(low=0, high=npeople)     # Pick 2 random people\n",
    "    p2 = np.random.randint(low=0, high=npeople)     # p1 may end up being equal to p2, but it's not gonna break the script.\n",
    "    if wealth[p1]>0:\n",
    "        wealth[p1] -= coin                          # Decrease this one\n",
    "        wealth[p2] += coin                          # But increase this one\n",
    "        \n",
    "plt.hist(wealth);"
   ]
  },
  {
   "cell_type": "code",
   "execution_count": 4,
   "metadata": {},
   "outputs": [
    {
     "name": "stdout",
     "output_type": "stream",
     "text": [
      "This should be 0: 0.0\n",
      "This should be 1: 1.0\n",
      "This should be something else: 0.6078431372549019\n"
     ]
    }
   ],
   "source": [
    "# Define a function to calculate Gini coefficient\n",
    "def gini(x):\n",
    "    y = np.sort(x) # We need to sort them by wealth\n",
    "    upper_sum = 0\n",
    "    n = len(x)\n",
    "    for i in range(n):\n",
    "        upper_sum += (i+1)*y[i]\n",
    "    return 1-2/(n-1)*( n - upper_sum/sum(y) )\n",
    "\n",
    "# Testing the function:    \n",
    "print('This should be 0:',gini([1,1,1,1]))\n",
    "print('This should be 1:',gini([1,0,0,0]))\n",
    "print('This should be something else:',gini([10,5,1,1]))\n",
    "        \n",
    "        \n"
   ]
  },
  {
   "cell_type": "code",
   "execution_count": 24,
   "metadata": {},
   "outputs": [
    {
     "data": {
      "image/png": "[encoded data removed]",
      "text/plain": [
       "<Figure size 1080x360 with 3 Axes>"
      ]
     },
     "metadata": {
      "needs_background": "light"
     },
     "output_type": "display_data"
    }
   ],
   "source": [
    "# Remember everything, plot the history.\n",
    "\n",
    "nsteps = 1000\n",
    "trades_per_step = 10\n",
    "npeople = 100\n",
    "coin = 0.1\n",
    "interest = 0.001\n",
    "tax = 10\n",
    "\n",
    "wealth = np.ones(shape=(nsteps,npeople))\n",
    "gini_history = np.zeros(nsteps)\n",
    "taxation = np.zeros(nsteps)\n",
    "\n",
    "\n",
    "wealth_input = {}\n",
    "for key in wealth_input.keys():\n",
    "    wealth_input[key] = wealth\n",
    "def taxation(wealth_input):\n",
    "    if (wealth >= 5) and (wealth <= 7):\n",
    "        tax = (0.1*(wealth-10))\n",
    "        \n",
    "    for t in range(1,nsteps):                             # We now start at t=1, to be able to refer to t-1 (prev step)\n",
    "        wealth[t,:] = wealth[t-1,:]*(1+interest)          # By default, wealth at t remains the same as it was at t-1\n",
    "        for i in range(trades_per_step):                  # Let's make more than 2 ppl trade at each time point.\n",
    "            p1 = np.random.randint(low=0, high=npeople)   # (It doesn't change the end solution, just makes plots prettier.\n",
    "            p2 = np.random.randint(low=0, high=npeople)   # It's equivalent to only remembering eath Kth step.)\n",
    "            if wealth[t,p1]>0:\n",
    "                wealth[t,p1] -= coin        # Still update in place\n",
    "                wealth[t,p2] += coin\n",
    "        gini_history[t] = gini(wealth[t,:]) # Calculate gini index for the current distribution of wealth\n",
    "\n",
    "# Figures\n",
    "plt.figure(figsize=(15,5))\n",
    "plt.subplot(1,3,1)\n",
    "plt.hist(wealth[-1,:],bins=10);\n",
    "plt.xlabel('Wealth');\n",
    "plt.ylabel('Count');\n",
    "\n",
    "plt.subplot(1,3,2);\n",
    "poor_one = np.argmin(wealth[-1,:])\n",
    "rich_one = np.argmax(wealth[-1,:])\n",
    "plt.plot(wealth[:,poor_one]);\n",
    "plt.plot(wealth[:,rich_one]);\n",
    "plt.xlabel('Time');\n",
    "plt.ylabel('Wealth');\n",
    "\n",
    "plt.subplot(1,3,3)\n",
    "plt.plot(gini_history);\n",
    "plt.xlabel('Time');\n",
    "plt.ylabel('Gini index');"
   ]
  },
  {
   "cell_type": "code",
   "execution_count": 35,
   "metadata": {},
   "outputs": [
    {
     "data": {
      "image/png": "[encoded data removed]",
      "text/plain": [
       "<Figure size 432x288 with 1 Axes>"
      ]
     },
     "metadata": {
      "needs_background": "light"
     },
     "output_type": "display_data"
    }
   ],
   "source": [
    "# Basic model\n",
    "nsteps = 10000\n",
    "npeople = 100\n",
    "coin = 0.1\n",
    "\n",
    "wealth = np.ones(npeople)   # Init at equal wealth\n",
    "\n",
    "wealth_input = {}\n",
    "for key in wealth_input.keys():\n",
    "    wealth_input[key] = wealthtax\n",
    "def taxation(wealth_input):\n",
    "    if (wealthtax >= 0) and (wealthtax <= 1):\n",
    "        tax = (0.1*(wealthtax-10));\n",
    "        for t in range(nsteps):\n",
    "            p1 = np.random.randint(low=0, high=npeople)     # Pick 2 random people\n",
    "            p2 = np.random.randint(low=0, high=npeople)     # p1 may end up being equal to p2, but it's not gonna break the script.\n",
    "            if wealth[p1]>0:\n",
    "                wealth[p1] -= coin                          # Decrease this one\n",
    "                wealth[p2] += coin                          # But increase this one\n",
    "        \n",
    "plt.hist(wealth);"
   ]
  },
  {
   "cell_type": "code",
   "execution_count": null,
   "metadata": {},
   "outputs": [],
   "source": []
  }
 ],
 "metadata": {
  "kernelspec": {
   "display_name": "Python 3",
   "language": "python",
   "name": "python3"
  },
  "language_info": {
   "codemirror_mode": {
    "name": "ipython",
    "version": 3
   },
   "file_extension": ".py",
   "mimetype": "text/x-python",
   "name": "python",
   "nbconvert_exporter": "python",
   "pygments_lexer": "ipython3",
   "version": "3.7.4"
  }
 },
 "nbformat": 4,
 "nbformat_minor": 2
}
