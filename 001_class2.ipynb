{
 "cells": [
  {
   "cell_type": "markdown",
   "metadata": {},
   "source": [
    "# Class 2"
   ]
  },
  {
   "cell_type": "code",
   "execution_count": 3,
   "metadata": {
    "scrolled": false
   },
   "outputs": [
    {
     "name": "stdout",
     "output_type": "stream",
     "text": [
      "Here is a number: 2\n",
      "I have a lovely dog named Spot\n",
      "I have a lovely dog named Fido\n",
      "I have a lovely dog named Rexs\n"
     ]
    }
   ],
   "source": [
    "# Functions \n",
    "\n",
    "# Functions that just do things but don't talk back\n",
    "# Built-in functions:\n",
    "print(\"Here is a number:\",2)\n",
    "\n",
    "# A person who wrote the same code many times \n",
    "print(\"I have a lovely dog named Spot\")\n",
    "print(\"I have a lovely dog named Fido\")\n",
    "print(\"I have a lovely dog named Rexs\")\n",
    "# They had to write the same thing sagain and again"
   ]
  },
  {
   "cell_type": "code",
   "execution_count": 6,
   "metadata": {},
   "outputs": [
    {
     "name": "stdout",
     "output_type": "stream",
     "text": [
      "I have a lovely dog named Teddy\n",
      "I have a lovely dog named dog\n"
     ]
    }
   ],
   "source": [
    "def express_love_old(name=\"dog\"):\n",
    "    print(\"I have a lovely dog named\",name)\n",
    "\n",
    "express_love(\"Teddy\")\n",
    "express_love() #default value\n",
    "#if the word in parenthesis is colored weiredly, we cannot use it\n",
    "#use underscore to indicate another word in a function "
   ]
  },
  {
   "cell_type": "code",
   "execution_count": 11,
   "metadata": {},
   "outputs": [
    {
     "ename": "IndentationError",
     "evalue": "unexpected indent (<ipython-input-11-a8c8bc0221d5>, line 4)",
     "output_type": "error",
     "traceback": [
      "\u001b[0;36m  File \u001b[0;32m\"<ipython-input-11-a8c8bc0221d5>\"\u001b[0;36m, line \u001b[0;32m4\u001b[0m\n\u001b[0;31m    if name is None:\u001b[0m\n\u001b[0m    ^\u001b[0m\n\u001b[0;31mIndentationError\u001b[0m\u001b[0;31m:\u001b[0m unexpected indent\n"
     ]
    }
   ],
   "source": [
    "def express_love(name=None): #Default value of None, so no error if called without arguments\n",
    "    \"\"\"Expresses love to all creation, or a specific dog.\"\"\"\n",
    "    #this things above ^^^ is a docstring, and it's a good form to proide functions with them.\n",
    "        if name is None:\n",
    "        print(\"Glory to all living things!\")\n",
    "    else:\n",
    "        print(\"I have a lovely dog named\",name)\n",
    "\n",
    "express_love(\"Teddy\")\n",
    "express_love() #default value\n",
    "#if the word in parenthesis is colored weiredly, we cannot use it\n",
    "#use underscore to indicate another word in a function "
   ]
  },
  {
   "cell_type": "code",
   "execution_count": 15,
   "metadata": {},
   "outputs": [
    {
     "name": "stdout",
     "output_type": "stream",
     "text": [
      "['Spot', 'Fido', 'Rex', 'Teddy']\n",
      "The loop starts now\n",
      "I have a lovely dog named Spot\n",
      "I have a lovely dog named Fido\n",
      "I have a lovely dog named Rex\n",
      "I have a lovely dog named Teddy\n"
     ]
    }
   ],
   "source": [
    "#Let's glorify several dogs in one go \n",
    "\n",
    "names = ['Spot','Fido','Rex','Teddy']\n",
    "print(names)\n",
    "\n",
    "print('The loop starts now')\n",
    "for name in names:  # \"FOR\" here makes your 'running variable' (NAME) take values from the list (NAMES), one by one\n",
    "    express_love(name)"
   ]
  },
  {
   "cell_type": "code",
   "execution_count": null,
   "metadata": {},
   "outputs": [],
   "source": [
    "express_love #If you call a function names without (), instead of running the runction you \"get\" the funtion itself"
   ]
  },
  {
   "cell_type": "code",
   "execution_count": 5,
   "metadata": {},
   "outputs": [
    {
     "ename": "NameError",
     "evalue": "name 'express_hatred' is not defined",
     "output_type": "error",
     "traceback": [
      "\u001b[0;31m---------------------------------------------------------------------------\u001b[0m",
      "\u001b[0;31mNameError\u001b[0m                                 Traceback (most recent call last)",
      "\u001b[0;32m<ipython-input-5-4ab556ed51d7>\u001b[0m in \u001b[0;36m<module>\u001b[0;34m\u001b[0m\n\u001b[0;32m----> 1\u001b[0;31m \u001b[0mexpress_hatred\u001b[0m\u001b[0;34m\u001b[0m\u001b[0;34m\u001b[0m\u001b[0m\n\u001b[0m",
      "\u001b[0;31mNameError\u001b[0m: name 'express_hatred' is not defined"
     ]
    }
   ],
   "source": [
    "express_hatred #this one doesnt exist\n",
    "#Error message tries to tell you where the erroe happened (what row)\n",
    "#and it tries to name the error (the very last row of the error message)"
   ]
  },
  {
   "cell_type": "code",
   "execution_count": 19,
   "metadata": {},
   "outputs": [
    {
     "name": "stdout",
     "output_type": "stream",
     "text": [
      "4\n",
      "14\n",
      "5\n",
      "14\n",
      "5\n"
     ]
    }
   ],
   "source": [
    "# Functions that do something and give it back to you \n",
    "\n",
    "# Built-in\n",
    "print(len(names)) # Takes something, returns a Length of it \n",
    "\n",
    "#Imagine that somebody has to calculate x**2+5 again and again\n",
    "print(3**2+5)\n",
    "print(0**2+5)\n",
    "\n",
    "def my_calculation(x): # strategic choice of not having a default value; we want it to protest \n",
    "    \"\"\"Calculates this very important formula on which our life hinges.\"\"\"\n",
    "    return x**2+5\n",
    "\n",
    "print(my_calculation(3))\n",
    "print(my_calculation(0))\n",
    "    "
   ]
  },
  {
   "cell_type": "markdown",
   "metadata": {},
   "source": [
    "print(4)"
   ]
  },
  {
   "cell_type": "markdown",
   "metadata": {},
   "source": [
    "# Markdown\n",
    "\n",
    "Markdown is cool! Here's what happens if you write! You get text!\n",
    "If you start a new linem actually nothing happens. \n",
    "\n",
    "If you want a new paragraph, you need to skip a line.\n",
    "\n",
    "* To do a bullet point list,\n",
    "* you use asterisks, and a space\n",
    "\n",
    "To make a link, you [write the words in square brackets](http://google.com) followed by a link in round parentheses.\n",
    "\n",
    "## Second level title \n",
    "\n",
    "### Third-level title \n",
    "\n",
    "Two fancy unnecessary by fancy things. One, if you want to make your text about coding look so coding like, you can put some key words in reverse quotation marks. It will look like that: print(4) .Looks fancy! '5+5=10'\n",
    "\n",
    "Another fancy thing is math! Math thingies are coded in little snippets of LateX, and go between dollar signs. For example, $5+5=10$. Fancy math: $\\sum_{i=0}^{\\inf} \\sqrt{1\\(n+1)} $\n",
    "\n",
    "$\\displaystyle \\frac{1}{1 \\bigotimes x}$"
   ]
  },
  {
   "cell_type": "code",
   "execution_count": null,
   "metadata": {},
   "outputs": [],
   "source": []
  }
 ],
 "metadata": {
  "kernelspec": {
   "display_name": "Python 3",
   "language": "python",
   "name": "python3"
  },
  "language_info": {
   "codemirror_mode": {
    "name": "ipython",
    "version": 3
   },
   "file_extension": ".py",
   "mimetype": "text/x-python",
   "name": "python",
   "nbconvert_exporter": "python",
   "pygments_lexer": "ipython3",
   "version": "3.7.4"
  }
 },
 "nbformat": 4,
 "nbformat_minor": 2
}
